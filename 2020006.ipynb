{
  "cells": [
    {
      "cell_type": "code",
      "execution_count": 39,
      "metadata": {
        "id": "uIT3N0qEmVJh"
      },
      "outputs": [],
      "source": [
        "import numpy as np\n",
        "import pandas as pd\n",
        "import matplotlib.pyplot as plt\n",
        "import seaborn as sns\n",
        "from sklearn.model_selection import train_test_split"
      ]
    },
    {
      "cell_type": "code",
      "execution_count": 48,
      "metadata": {
        "id": "RF3_3xvQmVq2"
      },
      "outputs": [],
      "source": [
        "def read_data(path):      #read data from path\n",
        "  df = pd.read_csv(path, sep=\"\\t\")\n",
        "  df.columns = [\"User_ID\", \"Movie_ID\", \"Rating\", \"Timestamp\"]\n",
        "  mat = np.zeros([943, 1682])\n",
        "  for idx, data in df.iterrows():\n",
        "    user = data[\"User_ID\"]\n",
        "    movie = data[\"Movie_ID\"]\n",
        "    rating = data[\"Rating\"]\n",
        "    mat[user-1, movie-1]=rating\n",
        "  return mat"
      ]
    },
    {
      "cell_type": "code",
      "execution_count": 49,
      "metadata": {
        "id": "5sWiZYcMmXXD"
      },
      "outputs": [],
      "source": [
        "#R matrix is the same as M matrix given in the paper\n",
        "\n",
        "def create_r(y):      #create the R matrix as mentioned in class notes\n",
        "  r = np.zeros_like(y)      #has the same dimensions as ratings matrix\n",
        "  for i in range(y.shape[0]):\n",
        "    for j in range(y.shape[1]):\n",
        "      if y[i,j]!=0:\n",
        "        r[i,j]=1 \n",
        "  return r"
      ]
    },
    {
      "cell_type": "code",
      "execution_count": 50,
      "metadata": {
        "id": "Bkma0Y0lpoH7"
      },
      "outputs": [],
      "source": [
        "def nmae(test_path, x):\n",
        "  test = pd.read_csv(test_path, sep='\\t')   #read test data\n",
        "  test.columns = [\"User_ID\", \"Movie_ID\", \"Rating\", \"Timestamp\"]\n",
        "\n",
        "  error = 0\n",
        "  for idx, data in test.iterrows():\n",
        "    user = data[\"User_ID\"]\n",
        "    movie = data[\"Movie_ID\"]\n",
        "    rating = data[\"Rating\"] \n",
        "    error+=abs(x[user-1, movie-1]-rating)   #calculate error\n",
        "\n",
        "  mae = error/test.shape[0]   #calculate NMAE\n",
        "  n_mae=mae/4\n",
        "  return n_mae"
      ]
    },
    {
      "cell_type": "code",
      "execution_count": 51,
      "metadata": {
        "id": "tyd-izXBpojg"
      },
      "outputs": [],
      "source": [
        "file_path = \"/content/gdrive/MyDrive/ml-100k/\"\n",
        "train_path = file_path + \"u\" +str(1) + \".base\"\n",
        "test_path = file_path + \"u\" +str(1) + \".test\"\n",
        "\n",
        "y = read_data(train_path)\n",
        "x = np.random.randint(1, 6, [y.shape[0], y.shape[1]])\n",
        "r = create_r(y)"
      ]
    },
    {
      "cell_type": "code",
      "execution_count": 54,
      "metadata": {
        "colab": {
          "base_uri": "https://localhost:8080/"
        },
        "id": "L_nWuXEcpsbs",
        "outputId": "65bd0f97-2bad-4505-d903-aee748ce7475"
      },
      "outputs": [
        {
          "name": "stdout",
          "output_type": "stream",
          "text": [
            "NMAE =  0.1866134973429396\n"
          ]
        }
      ],
      "source": [
        "import scipy\n",
        "\n",
        "lamb = 2      #setting hyperparameters\n",
        "epochs = 50\n",
        "p = 1\n",
        "\n",
        "\n",
        "for i in range(epochs):\n",
        "  b = x + y - np.multiply(r, x)     #Create b as mentioned in the algorithm\n",
        "  u, sigma, v = scipy.sparse.linalg.svds(b)   #apply SVD on b\n",
        "  sigma = np.diag(sigma)      #diagonalise the singular values\n",
        "\n",
        "  #create a new diagonal matrix for the Schatten-p norm\n",
        "  sigma_p = np.zeros_like(sigma) \n",
        "\n",
        "  for i in range(sigma.shape[0]):\n",
        "    for j in range(sigma.shape[1]):\n",
        "      #define threshold for the soft threshold function as mentioned in the paper\n",
        "      if sigma[i, j] != 0:\n",
        "        threshold = (lamb/2)*p*(abs(sigma[i, j])**(p-1))  \n",
        "      else:\n",
        "        threshold = 0 #only defined when singular value != 0\n",
        "\n",
        "      #apply soft thresholding to singular values with above threshold\n",
        "      sigma_p[i, j] = np.sign(sigma[i, j])*max(abs(sigma[i, j])-threshold, 0)\n",
        "\n",
        "  #Uptate x\n",
        "  x = u@sigma_p@v\n",
        "\n",
        "error = nmae(test_path, x)\n",
        "print(\"NMAE = \", error)"
      ]
    },
    {
      "cell_type": "code",
      "execution_count": 25,
      "metadata": {
        "id": "nlX_SAAEsDCc"
      },
      "outputs": [],
      "source": []
    }
  ],
  "metadata": {
    "colab": {
      "provenance": []
    },
    "kernelspec": {
      "display_name": "Python 3",
      "name": "python3"
    },
    "language_info": {
      "name": "python"
    }
  },
  "nbformat": 4,
  "nbformat_minor": 0
}

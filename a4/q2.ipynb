{
 "cells": [
  {
   "cell_type": "code",
   "execution_count": 1,
   "metadata": {},
   "outputs": [],
   "source": [
    "import json\n",
    "import os\n",
    "import torch\n",
    "import torchvision.transforms as transforms\n",
    "from torch.utils.data import Dataset, DataLoader\n",
    "from PIL import Image\n",
    "from torchvision.models import resnet50\n",
    "from torchvision import models\n",
    "from transformers import BertTokenizer, BertForSequenceClassification, AdamW\n",
    "\n",
    "import torch.nn as nn\n",
    "import torch.optim as optim\n"
   ]
  },
  {
   "cell_type": "code",
   "execution_count": 2,
   "metadata": {},
   "outputs": [],
   "source": [
    "torch.cuda.empty_cache()"
   ]
  },
  {
   "cell_type": "code",
   "execution_count": 3,
   "metadata": {},
   "outputs": [],
   "source": [
    "tokenizer = BertTokenizer.from_pretrained(\n",
    "    'bert-base-uncased', do_lower_case=True)\n",
    "\n",
    "class HatefulMemeDataset(Dataset):\n",
    "    def __init__(self, json_file, tokenizer=None):\n",
    "        self.tokenizer = tokenizer\n",
    "        if tokenizer is None:\n",
    "            self.tokenizer = BertTokenizer.from_pretrained(\n",
    "                'bert-base-uncased', do_lower_case=True)\n",
    "\n",
    "        with open(json_file, \"r\") as f:\n",
    "            self.data = [json.loads(line) for line in f]\n",
    "\n",
    "    def __len__(self):\n",
    "        return len(self.data)\n",
    "\n",
    "    def __getitem__(self, index):\n",
    "        # img_path = os.path.join(self.img_dir, self.data[index][\"img\"])\n",
    "        # image = Image.open(img_path).convert(\"RGB\")\n",
    "\n",
    "        # if self.transform is not None:\n",
    "        #     image = self.transform(image)\n",
    "        text = self.data[index][\"text\"]\n",
    "        inputs = self.tokenizer.encode_plus(\n",
    "            text,                      # Input sentence\n",
    "            \n",
    "            max_length=140,                # Pad or truncate all sentences\n",
    "            return_tensors='pt',           # Return PyTorch tensors\n",
    "            padding='max_length',\n",
    "            truncation=True,\n",
    "        )\n",
    "\n",
    "        label = self.data[index][\"label\"]\n",
    "\n",
    "        return inputs['input_ids'][0], inputs['attention_mask'][0], label\n"
   ]
  },
  {
   "cell_type": "code",
   "execution_count": 4,
   "metadata": {},
   "outputs": [],
   "source": [
    "# Load the datasets\n",
    "train_dataset = HatefulMemeDataset(\n",
    "    json_file=\"data/train.jsonl\",  tokenizer=tokenizer)\n",
    "val_dataset = HatefulMemeDataset(\n",
    "    json_file=\"data/dev_seen.jsonl\",  tokenizer=tokenizer)\n",
    "valu_dataset = HatefulMemeDataset(\n",
    "    json_file=\"data/dev_unseen.jsonl\",  tokenizer=tokenizer)\n",
    "testA_dataset = HatefulMemeDataset(\n",
    "    json_file=\"data/test_seen.jsonl\", tokenizer=tokenizer)\n",
    "testB_dataset = HatefulMemeDataset(\n",
    "    json_file=\"data/test_unseen.jsonl\", tokenizer=tokenizer)\n",
    "\n",
    "# Define the dataloaders\n",
    "train_loader = DataLoader(train_dataset, batch_size=32,\n",
    "                          shuffle=True, num_workers=4)\n",
    "val_loader = DataLoader(val_dataset, batch_size=32,\n",
    "                        shuffle=False, num_workers=4)\n",
    "valu_loader = DataLoader(valu_dataset, batch_size=32,\n",
    "                        shuffle=False, num_workers=4)\n",
    "testA_loader = DataLoader(testA_dataset, batch_size=32,\n",
    "                         shuffle=False, num_workers=4)\n",
    "testB_loader = DataLoader(testB_dataset, batch_size=32,\n",
    "                          shuffle=False, num_workers=4)\n"
   ]
  },
  {
   "cell_type": "code",
   "execution_count": 5,
   "metadata": {},
   "outputs": [
    {
     "name": "stdout",
     "output_type": "stream",
     "text": [
      "torch.Size([32, 140])\n",
      "torch.Size([32, 140])\n",
      "torch.Size([32])\n"
     ]
    }
   ],
   "source": [
    "for inputs, masks, labels in train_loader:\n",
    "    print(inputs.shape)\n",
    "    print(masks.shape)\n",
    "    print(labels.shape)\n",
    "    break"
   ]
  },
  {
   "cell_type": "code",
   "execution_count": 8,
   "metadata": {},
   "outputs": [
    {
     "name": "stderr",
     "output_type": "stream",
     "text": [
      "Some weights of the model checkpoint at bert-base-uncased were not used when initializing BertForSequenceClassification: ['cls.predictions.transform.dense.bias', 'cls.predictions.transform.LayerNorm.bias', 'cls.seq_relationship.bias', 'cls.seq_relationship.weight', 'cls.predictions.bias', 'cls.predictions.decoder.weight', 'cls.predictions.transform.LayerNorm.weight', 'cls.predictions.transform.dense.weight']\n",
      "- This IS expected if you are initializing BertForSequenceClassification from the checkpoint of a model trained on another task or with another architecture (e.g. initializing a BertForSequenceClassification model from a BertForPreTraining model).\n",
      "- This IS NOT expected if you are initializing BertForSequenceClassification from the checkpoint of a model that you expect to be exactly identical (initializing a BertForSequenceClassification model from a BertForSequenceClassification model).\n",
      "Some weights of BertForSequenceClassification were not initialized from the model checkpoint at bert-base-uncased and are newly initialized: ['classifier.weight', 'classifier.bias']\n",
      "You should probably TRAIN this model on a down-stream task to be able to use it for predictions and inference.\n"
     ]
    },
    {
     "name": "stdout",
     "output_type": "stream",
     "text": [
      "Epoch 1/10\n",
      "Train loss: 0.7134, Train accuracy: 0.4320\n",
      "Val loss: 0.6996, Val accuracy: 0.4860\n",
      "Epoch 2/10\n",
      "Train loss: 0.7137, Train accuracy: 0.4264\n",
      "Val loss: 0.6996, Val accuracy: 0.4860\n",
      "Epoch 3/10\n",
      "Train loss: 0.7135, Train accuracy: 0.4334\n",
      "Val loss: 0.6996, Val accuracy: 0.4860\n",
      "Epoch 4/10\n",
      "Train loss: 0.7137, Train accuracy: 0.4356\n",
      "Val loss: 0.6996, Val accuracy: 0.4860\n"
     ]
    },
    {
     "ename": "KeyboardInterrupt",
     "evalue": "",
     "output_type": "error",
     "traceback": [
      "\u001b[0;31m---------------------------------------------------------------------------\u001b[0m",
      "\u001b[0;31mKeyboardInterrupt\u001b[0m                         Traceback (most recent call last)",
      "Cell \u001b[0;32mIn[8], line 26\u001b[0m\n\u001b[1;32m     24\u001b[0m loss \u001b[39m=\u001b[39m outputs[\u001b[39m0\u001b[39m]\n\u001b[1;32m     25\u001b[0m logits \u001b[39m=\u001b[39m outputs[\u001b[39m1\u001b[39m]\n\u001b[0;32m---> 26\u001b[0m loss\u001b[39m.\u001b[39;49mbackward()\n\u001b[1;32m     28\u001b[0m torch\u001b[39m.\u001b[39mnn\u001b[39m.\u001b[39mutils\u001b[39m.\u001b[39mclip_grad_norm_(model\u001b[39m.\u001b[39mparameters(), \u001b[39m1.0\u001b[39m)\n\u001b[1;32m     29\u001b[0m optimizer\u001b[39m.\u001b[39mstep()\n",
      "File \u001b[0;32m~/a/dl_assignments/.venv/lib/python3.8/site-packages/torch/_tensor.py:487\u001b[0m, in \u001b[0;36mTensor.backward\u001b[0;34m(self, gradient, retain_graph, create_graph, inputs)\u001b[0m\n\u001b[1;32m    477\u001b[0m \u001b[39mif\u001b[39;00m has_torch_function_unary(\u001b[39mself\u001b[39m):\n\u001b[1;32m    478\u001b[0m     \u001b[39mreturn\u001b[39;00m handle_torch_function(\n\u001b[1;32m    479\u001b[0m         Tensor\u001b[39m.\u001b[39mbackward,\n\u001b[1;32m    480\u001b[0m         (\u001b[39mself\u001b[39m,),\n\u001b[0;32m   (...)\u001b[0m\n\u001b[1;32m    485\u001b[0m         inputs\u001b[39m=\u001b[39minputs,\n\u001b[1;32m    486\u001b[0m     )\n\u001b[0;32m--> 487\u001b[0m torch\u001b[39m.\u001b[39;49mautograd\u001b[39m.\u001b[39;49mbackward(\n\u001b[1;32m    488\u001b[0m     \u001b[39mself\u001b[39;49m, gradient, retain_graph, create_graph, inputs\u001b[39m=\u001b[39;49minputs\n\u001b[1;32m    489\u001b[0m )\n",
      "File \u001b[0;32m~/a/dl_assignments/.venv/lib/python3.8/site-packages/torch/autograd/__init__.py:200\u001b[0m, in \u001b[0;36mbackward\u001b[0;34m(tensors, grad_tensors, retain_graph, create_graph, grad_variables, inputs)\u001b[0m\n\u001b[1;32m    195\u001b[0m     retain_graph \u001b[39m=\u001b[39m create_graph\n\u001b[1;32m    197\u001b[0m \u001b[39m# The reason we repeat same the comment below is that\u001b[39;00m\n\u001b[1;32m    198\u001b[0m \u001b[39m# some Python versions print out the first line of a multi-line function\u001b[39;00m\n\u001b[1;32m    199\u001b[0m \u001b[39m# calls in the traceback and some print out the last line\u001b[39;00m\n\u001b[0;32m--> 200\u001b[0m Variable\u001b[39m.\u001b[39;49m_execution_engine\u001b[39m.\u001b[39;49mrun_backward(  \u001b[39m# Calls into the C++ engine to run the backward pass\u001b[39;49;00m\n\u001b[1;32m    201\u001b[0m     tensors, grad_tensors_, retain_graph, create_graph, inputs,\n\u001b[1;32m    202\u001b[0m     allow_unreachable\u001b[39m=\u001b[39;49m\u001b[39mTrue\u001b[39;49;00m, accumulate_grad\u001b[39m=\u001b[39;49m\u001b[39mTrue\u001b[39;49;00m)\n",
      "\u001b[0;31mKeyboardInterrupt\u001b[0m: "
     ]
    }
   ],
   "source": [
    "model = BertForSequenceClassification.from_pretrained(\n",
    "    'bert-base-uncased', num_labels=2)\n",
    "optimizer = optim.AdamW(model.parameters(), lr=2e-5, eps=1e-8)\n",
    "scheduler = torch.optim.lr_scheduler.StepLR(optimizer, step_size=1, gamma=0.1)\n",
    "\n",
    "device = torch.device(\"cuda\" if torch.cuda.is_available() else \"cpu\")\n",
    "model.to(device)\n",
    "train_batch_size = 32\n",
    "val_batch_size = 32\n",
    "num_epochs = 10\n",
    "\n",
    "for epoch in range(num_epochs):\n",
    "    model.train()\n",
    "    train_loss = 0\n",
    "    train_acc = 0\n",
    "    num_train_steps = 0\n",
    "    for inputs, attention_masks, labels in train_loader:\n",
    "        optimizer.zero_grad()\n",
    "        inputs, attention_masks, labels = inputs.to(device), attention_masks.to(device), labels.to(device)\n",
    "\n",
    "        \n",
    "        outputs = model(\n",
    "            inputs, attention_mask=attention_masks, labels=labels)\n",
    "        loss = outputs[0]\n",
    "        logits = outputs[1]\n",
    "        loss.backward()\n",
    "\n",
    "        torch.nn.utils.clip_grad_norm_(model.parameters(), 1.0)\n",
    "        optimizer.step()\n",
    "        scheduler.step()\n",
    "\n",
    "        train_loss += loss.item()\n",
    "        train_acc += (logits.argmax(1) == labels).sum().item()\n",
    "        num_train_steps += 1\n",
    "\n",
    "    # Evaluate the model on the validation set after each epoch\n",
    "    model.eval()\n",
    "    val_loss = 0\n",
    "    val_acc = 0\n",
    "    num_val_steps = 0\n",
    "\n",
    "    with torch.no_grad():\n",
    "        for inputs, attention_masks, labels in val_loader:\n",
    "            inputs, attention_masks, labels = inputs.to(\n",
    "                device), attention_masks.to(device), labels.to(device)\n",
    "\n",
    "            outputs = model(inputs, attention_mask=attention_masks, labels=labels)\n",
    "            loss = outputs[0]\n",
    "            logits = outputs[1]\n",
    "\n",
    "            val_loss += loss.item()\n",
    "            val_acc += (logits.argmax(1) == labels).sum().item()\n",
    "            num_val_steps += 1\n",
    "        train_loss = train_loss / num_train_steps\n",
    "        train_acc = train_acc / len(train_dataset)\n",
    "        val_loss = val_loss / num_val_steps\n",
    "        val_acc = val_acc / len(val_dataset)\n",
    "\n",
    "        print('Epoch {}/{}'.format(epoch+1, num_epochs))\n",
    "        print('Train loss: {:.4f}, Train accuracy: {:.4f}'.format(\n",
    "            train_loss, train_acc))\n",
    "        print('Val loss: {:.4f}, Val accuracy: {:.4f}'.format(val_loss, val_acc))\n",
    "        \n",
    "    \n",
    "\n",
    "    \n"
   ]
  },
  {
   "cell_type": "code",
   "execution_count": 7,
   "metadata": {},
   "outputs": [
    {
     "name": "stdout",
     "output_type": "stream",
     "text": [
      "Test loss: 0.6985, Test accuracy: 0.4990\n"
     ]
    }
   ],
   "source": [
    "model.eval()\n",
    "test_loss = 0\n",
    "test_acc = 0\n",
    "num_test_steps = 0\n",
    "\n",
    "with torch.no_grad():\n",
    "    for inputs, attention_masks, labels in testA_loader:\n",
    "        inputs, attention_masks, labels = inputs.to(\n",
    "            device), attention_masks.to(device), labels.to(device)\n",
    "\n",
    "        outputs = model(\n",
    "            inputs, attention_mask=attention_masks, labels=labels)\n",
    "        loss = outputs[0]\n",
    "        logits = outputs[1]\n",
    "\n",
    "        test_loss += loss.item()\n",
    "        test_acc += (logits.argmax(1) == labels).sum().item()\n",
    "        num_test_steps += 1\n",
    "        \n",
    "    test_loss = test_loss / num_test_steps\n",
    "    test_acc = test_acc / len(testA_dataset)\n",
    "\n",
    "    print('Test loss: {:.4f}, Test accuracy: {:.4f}'.format(test_loss, test_acc))\n"
   ]
  }
 ],
 "metadata": {
  "kernelspec": {
   "display_name": ".venv",
   "language": "python",
   "name": "python3"
  },
  "language_info": {
   "codemirror_mode": {
    "name": "ipython",
    "version": 3
   },
   "file_extension": ".py",
   "mimetype": "text/x-python",
   "name": "python",
   "nbconvert_exporter": "python",
   "pygments_lexer": "ipython3",
   "version": "3.8.0"
  },
  "orig_nbformat": 4
 },
 "nbformat": 4,
 "nbformat_minor": 2
}

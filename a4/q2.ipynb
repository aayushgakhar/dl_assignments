{
 "cells": [
  {
   "cell_type": "code",
   "execution_count": null,
   "metadata": {},
   "outputs": [],
   "source": [
    "\n"
   ]
  },
  {
   "cell_type": "code",
   "execution_count": 12,
   "metadata": {},
   "outputs": [],
   "source": [
    "import json\n",
    "import os\n",
    "import torch\n",
    "import torchvision.transforms as transforms\n",
    "from torch.utils.data import Dataset, DataLoader\n",
    "from PIL import Image\n",
    "from torchvision.models import resnet50\n",
    "from torchvision import models\n",
    "from transformers import BertTokenizer, BertForSequenceClassification, AdamW\n",
    "\n",
    "import torch.nn as nn\n",
    "import torch.optim as optim\n"
   ]
  },
  {
   "cell_type": "code",
   "execution_count": 13,
   "metadata": {},
   "outputs": [],
   "source": [
    "torch.cuda.empty_cache()"
   ]
  },
  {
   "cell_type": "code",
   "execution_count": 14,
   "metadata": {},
   "outputs": [
    {
     "name": "stderr",
     "output_type": "stream",
     "text": [
      "Downloading (…)solve/main/vocab.txt: 100%|██████████| 232k/232k [00:00<00:00, 1.13MB/s]\n",
      "Downloading (…)okenizer_config.json: 100%|██████████| 28.0/28.0 [00:00<00:00, 1.76kB/s]\n",
      "Downloading (…)lve/main/config.json: 100%|██████████| 570/570 [00:00<00:00, 152kB/s]\n"
     ]
    }
   ],
   "source": [
    "tokenizer = BertTokenizer.from_pretrained(\n",
    "    'bert-base-uncased', do_lower_case=True)\n",
    "\n",
    "class HatefulMemeDataset(Dataset):\n",
    "    def __init__(self, json_file, tokenizer=None):\n",
    "        self.tokenizer = tokenizer\n",
    "        if tokenizer is None:\n",
    "            self.tokenizer = BertTokenizer.from_pretrained(\n",
    "                'bert-base-uncased', do_lower_case=True)\n",
    "\n",
    "        with open(json_file, \"r\") as f:\n",
    "            self.data = [json.loads(line) for line in f]\n",
    "\n",
    "    def __len__(self):\n",
    "        return len(self.data)\n",
    "\n",
    "    def __getitem__(self, index):\n",
    "        # img_path = os.path.join(self.img_dir, self.data[index][\"img\"])\n",
    "        # image = Image.open(img_path).convert(\"RGB\")\n",
    "\n",
    "        # if self.transform is not None:\n",
    "        #     image = self.transform(image)\n",
    "        text = self.data[index][\"text\"]\n",
    "        inputs = self.tokenizer.encode_plus(\n",
    "            text,                      # Input sentence\n",
    "            \n",
    "            max_length=140,                # Pad or truncate all sentences\n",
    "            return_tensors='pt',           # Return PyTorch tensors\n",
    "            padding='max_length',\n",
    "            truncation=True,\n",
    "        )\n",
    "\n",
    "        label = self.data[index][\"label\"]\n",
    "\n",
    "        return inputs['input_ids'][0], inputs['attention_mask'][0], label\n"
   ]
  },
  {
   "cell_type": "code",
   "execution_count": 15,
   "metadata": {},
   "outputs": [],
   "source": [
    "# Load the datasets\n",
    "train_dataset = HatefulMemeDataset(\n",
    "    json_file=\"data/train.jsonl\",  tokenizer=tokenizer)\n",
    "val_dataset = HatefulMemeDataset(\n",
    "    json_file=\"data/dev_seen.jsonl\",  tokenizer=tokenizer)\n",
    "valu_dataset = HatefulMemeDataset(\n",
    "    json_file=\"data/dev_unseen.jsonl\",  tokenizer=tokenizer)\n",
    "testA_dataset = HatefulMemeDataset(\n",
    "    json_file=\"data/test_seen.jsonl\", tokenizer=tokenizer)\n",
    "testB_dataset = HatefulMemeDataset(\n",
    "    json_file=\"data/test_unseen.jsonl\", tokenizer=tokenizer)\n",
    "\n",
    "# Define the dataloaders\n",
    "train_loader = DataLoader(train_dataset, batch_size=32,\n",
    "                          shuffle=True, num_workers=4)\n",
    "val_loader = DataLoader(val_dataset, batch_size=32,\n",
    "                        shuffle=False, num_workers=4)\n",
    "valu_loader = DataLoader(valu_dataset, batch_size=32,\n",
    "                        shuffle=False, num_workers=4)\n",
    "testA_loader = DataLoader(testA_dataset, batch_size=32,\n",
    "                         shuffle=False, num_workers=4)\n",
    "testB_loader = DataLoader(testB_dataset, batch_size=32,\n",
    "                          shuffle=False, num_workers=4)\n"
   ]
  },
  {
   "cell_type": "code",
   "execution_count": 16,
   "metadata": {},
   "outputs": [
    {
     "name": "stdout",
     "output_type": "stream",
     "text": [
      "torch.Size([32, 140])\n",
      "torch.Size([32, 140])\n",
      "torch.Size([32])\n"
     ]
    }
   ],
   "source": [
    "for inputs, masks, labels in train_loader:\n",
    "    print(inputs.shape)\n",
    "    print(masks.shape)\n",
    "    print(labels.shape)\n",
    "    break"
   ]
  },
  {
   "cell_type": "code",
   "execution_count": 20,
   "metadata": {},
   "outputs": [
    {
     "name": "stderr",
     "output_type": "stream",
     "text": [
      "Some weights of the model checkpoint at bert-base-uncased were not used when initializing BertForSequenceClassification: ['cls.predictions.transform.LayerNorm.bias', 'cls.predictions.decoder.weight', 'cls.predictions.transform.dense.bias', 'cls.predictions.transform.LayerNorm.weight', 'cls.predictions.transform.dense.weight', 'cls.seq_relationship.bias', 'cls.predictions.bias', 'cls.seq_relationship.weight']\n",
      "- This IS expected if you are initializing BertForSequenceClassification from the checkpoint of a model trained on another task or with another architecture (e.g. initializing a BertForSequenceClassification model from a BertForPreTraining model).\n",
      "- This IS NOT expected if you are initializing BertForSequenceClassification from the checkpoint of a model that you expect to be exactly identical (initializing a BertForSequenceClassification model from a BertForSequenceClassification model).\n",
      "Some weights of BertForSequenceClassification were not initialized from the model checkpoint at bert-base-uncased and are newly initialized: ['classifier.weight', 'classifier.bias']\n",
      "You should probably TRAIN this model on a down-stream task to be able to use it for predictions and inference.\n"
     ]
    },
    {
     "name": "stdout",
     "output_type": "stream",
     "text": [
      "Epoch 1/10\n",
      "Train loss: 0.7127, Train accuracy: 0.4493\n",
      "Val loss: 0.6945, Val accuracy: 0.5100\n",
      "Epoch 2/10\n",
      "Train loss: 0.7112, Train accuracy: 0.4521\n",
      "Val loss: 0.6945, Val accuracy: 0.5100\n",
      "Epoch 3/10\n",
      "Train loss: 0.7110, Train accuracy: 0.4540\n",
      "Val loss: 0.6945, Val accuracy: 0.5100\n",
      "Epoch 4/10\n",
      "Train loss: 0.7111, Train accuracy: 0.4555\n",
      "Val loss: 0.6945, Val accuracy: 0.5100\n",
      "Epoch 5/10\n",
      "Train loss: 0.7118, Train accuracy: 0.4455\n",
      "Val loss: 0.6945, Val accuracy: 0.5100\n",
      "Epoch 6/10\n",
      "Train loss: 0.7096, Train accuracy: 0.4609\n",
      "Val loss: 0.6945, Val accuracy: 0.5100\n",
      "Epoch 7/10\n",
      "Train loss: 0.7100, Train accuracy: 0.4554\n",
      "Val loss: 0.6945, Val accuracy: 0.5100\n",
      "Epoch 8/10\n",
      "Train loss: 0.7126, Train accuracy: 0.4489\n",
      "Val loss: 0.6945, Val accuracy: 0.5100\n",
      "Epoch 9/10\n",
      "Train loss: 0.7129, Train accuracy: 0.4424\n",
      "Val loss: 0.6945, Val accuracy: 0.5100\n",
      "Epoch 10/10\n",
      "Train loss: 0.7128, Train accuracy: 0.4455\n",
      "Val loss: 0.6945, Val accuracy: 0.5100\n"
     ]
    }
   ],
   "source": [
    "model = BertForSequenceClassification.from_pretrained(\n",
    "    'bert-base-uncased', num_labels=2)\n",
    "optimizer = optim.AdamW(model.parameters(), lr=2e-5, eps=1e-8)\n",
    "scheduler = torch.optim.lr_scheduler.StepLR(optimizer, step_size=1, gamma=0.1)\n",
    "\n",
    "device = torch.device(\"cuda\" if torch.cuda.is_available() else \"cpu\")\n",
    "model.to(device)\n",
    "train_batch_size = 32\n",
    "val_batch_size = 32\n",
    "num_epochs = 10\n",
    "\n",
    "tr_loss_arr = []\n",
    "tr_acc_arr = []\n",
    "\n",
    "val_loss_arr = []\n",
    "val_acc_arr = []\n",
    "\n",
    "for epoch in range(num_epochs):\n",
    "    model.train()\n",
    "    train_loss = 0\n",
    "    train_acc = 0\n",
    "    num_train_steps = 0\n",
    "    for inputs, attention_masks, labels in train_loader:\n",
    "        optimizer.zero_grad()\n",
    "        inputs, attention_masks, labels = inputs.to(device), attention_masks.to(device), labels.to(device)\n",
    "\n",
    "        \n",
    "        outputs = model(\n",
    "            inputs, attention_mask=attention_masks, labels=labels)\n",
    "        loss = outputs[0]\n",
    "        logits = outputs[1]\n",
    "        loss.backward()\n",
    "\n",
    "        torch.nn.utils.clip_grad_norm_(model.parameters(), 1.0)\n",
    "        optimizer.step()\n",
    "        scheduler.step()\n",
    "\n",
    "        train_loss += loss.item()\n",
    "        train_acc += (logits.argmax(1) == labels).sum().item()\n",
    "        num_train_steps += 1\n",
    "\n",
    "    # Evaluate the model on the validation set after each epoch\n",
    "    model.eval()\n",
    "    val_loss = 0\n",
    "    val_acc = 0\n",
    "    num_val_steps = 0\n",
    "\n",
    "    with torch.no_grad():\n",
    "        for inputs, attention_masks, labels in val_loader:\n",
    "            inputs, attention_masks, labels = inputs.to(\n",
    "                device), attention_masks.to(device), labels.to(device)\n",
    "\n",
    "            outputs = model(inputs, attention_mask=attention_masks, labels=labels)\n",
    "            loss = outputs[0]\n",
    "            logits = outputs[1]\n",
    "\n",
    "            val_loss += loss.item()\n",
    "            val_acc += (logits.argmax(1) == labels).sum().item()\n",
    "            num_val_steps += 1\n",
    "        train_loss = train_loss / num_train_steps\n",
    "        train_acc = train_acc / len(train_dataset)\n",
    "        val_loss = val_loss / num_val_steps\n",
    "        val_acc = val_acc / len(val_dataset)\n",
    "\n",
    "        print('Epoch {}/{}'.format(epoch+1, num_epochs))\n",
    "        print('Train loss: {:.4f}, Train accuracy: {:.4f}'.format(\n",
    "            train_loss, train_acc))\n",
    "        print('Val loss: {:.4f}, Val accuracy: {:.4f}'.format(val_loss, val_acc))\n",
    "        tr_loss_arr.append(train_loss)\n",
    "        tr_acc_arr.append(train_acc)\n",
    "        val_loss_arr.append(val_loss)\n",
    "        val_acc_arr.append(val_acc)\n",
    "        \n",
    "    \n",
    "\n",
    "    \n"
   ]
  },
  {
   "cell_type": "code",
   "execution_count": 31,
   "metadata": {},
   "outputs": [],
   "source": [
    "torch.save(model.state_dict(), 'data/modelq2.pt')\n"
   ]
  },
  {
   "cell_type": "code",
   "execution_count": 33,
   "metadata": {},
   "outputs": [
    {
     "name": "stdout",
     "output_type": "stream",
     "text": [
      "[0.7127358436136317, 0.7111922919302058, 0.7109983377438739, 0.7110961682366249, 0.7117851598370344, 0.7095876168039509, 0.7100030622984234, 0.7126267740600988, 0.7129165557094086, 0.7128227111092187]\n",
      "[0.44929411764705884, 0.4521176470588235, 0.454, 0.4555294117647059, 0.4455294117647059, 0.46094117647058824, 0.45541176470588235, 0.44894117647058823, 0.4423529411764706, 0.4455294117647059]\n",
      "[0.6945083551108837, 0.6945083551108837, 0.6945083551108837, 0.6945083551108837, 0.6945083551108837, 0.6945083551108837, 0.6945083551108837, 0.6945083551108837, 0.6945083551108837, 0.6945083551108837]\n",
      "[0.51, 0.51, 0.51, 0.51, 0.51, 0.51, 0.51, 0.51, 0.51, 0.51]\n"
     ]
    }
   ],
   "source": [
    "print(tr_loss_arr\n",
    ", tr_acc_arr, val_loss_arr, val_acc_arr, sep = \"\\n\")"
   ]
  },
  {
   "cell_type": "code",
   "execution_count": 30,
   "metadata": {},
   "outputs": [
    {
     "data": {
      "image/png": "[encoded data removed]",
      "text/plain": [
       "<Figure size 640x480 with 1 Axes>"
      ]
     },
     "metadata": {},
     "output_type": "display_data"
    },
    {
     "data": {
      "image/png": "[encoded data removed]",
      "text/plain": [
       "<Figure size 640x480 with 1 Axes>"
      ]
     },
     "metadata": {},
     "output_type": "display_data"
    }
   ],
   "source": [
    "import matplotlib.pyplot as plt\n",
    "\n",
    "plt.plot(tr_loss_arr, label='train')\n",
    "plt.plot(val_loss_arr, label='val')\n",
    "plt.title('Loss vs Epochs')\n",
    "plt.legend()\n",
    "plt.show()\n",
    "\n",
    "plt.plot(tr_acc_arr, label='train')\n",
    "plt.plot(val_acc_arr, label='val')\n",
    "plt.title('Acc vs Epochs')\n",
    "plt.legend()\n",
    "plt.show()\n"
   ]
  },
  {
   "cell_type": "code",
   "execution_count": 28,
   "metadata": {},
   "outputs": [
    {
     "name": "stdout",
     "output_type": "stream",
     "text": [
      "Accuracy: 0.5040\n",
      "Precision: 0.5151\n",
      "Recall: 0.5099\n",
      "F1:0.4605\n"
     ]
    }
   ],
   "source": [
    "from sklearn.metrics import accuracy_score, precision_score, recall_score, f1_score\n",
    "\n",
    "true_labels = []\n",
    "pred_labels = []\n",
    "\n",
    "for inputs, attention_masks, labels in testA_loader:\n",
    "    inputs, attention_masks, labels = inputs.to(\n",
    "        device), attention_masks.to(device), labels.to(device)\n",
    "\n",
    "    \n",
    "\n",
    "    # Make predictions\n",
    "    with torch.no_grad():\n",
    "        outputs = model(\n",
    "            inputs, attention_mask=attention_masks, labels=labels)[1]\n",
    "        predictions = torch.argmax(outputs, axis=1)\n",
    "\n",
    "    # Add true labels and predicted labels to the lists\n",
    "    true_labels.extend(labels.tolist())\n",
    "    pred_labels.extend(predictions.tolist())\n",
    "\n",
    "accuracy = accuracy_score(true_labels, pred_labels)\n",
    "precision = precision_score(true_labels, pred_labels, average='macro')\n",
    "recall = recall_score(true_labels, pred_labels, average='macro')\n",
    "f1 = f1_score(true_labels, pred_labels, average='macro')\n",
    "\n",
    "print('Accuracy: {:.4f}'.format(accuracy))\n",
    "print('Precision: {:.4f}'.format(precision))\n",
    "print('Recall: {:.4f}'.format(recall))\n",
    "print('F1:{:.4f}'.format(f1))\n"
   ]
  },
  {
   "cell_type": "code",
   "execution_count": 29,
   "metadata": {},
   "outputs": [
    {
     "name": "stdout",
     "output_type": "stream",
     "text": [
      "Class-wise Metrics:\n",
      "              precision    recall  f1-score   support\n",
      "\n",
      " not_hateful       0.53      0.22      0.31       510\n",
      "     hateful       0.50      0.80      0.61       490\n",
      "\n",
      "    accuracy                           0.50      1000\n",
      "   macro avg       0.52      0.51      0.46      1000\n",
      "weighted avg       0.52      0.50      0.46      1000\n",
      "\n"
     ]
    }
   ],
   "source": [
    "from sklearn.metrics import classification_report\n",
    "\n",
    "target_names = ['not_hateful', 'hateful']\n",
    "report = classification_report(\n",
    "    true_labels, pred_labels, target_names=target_names)\n",
    "\n",
    "print('Class-wise Metrics:')\n",
    "print(report)\n"
   ]
  }
 ],
 "metadata": {
  "kernelspec": {
   "display_name": ".venv",
   "language": "python",
   "name": "python3"
  },
  "language_info": {
   "codemirror_mode": {
    "name": "ipython",
    "version": 3
   },
   "file_extension": ".py",
   "mimetype": "text/x-python",
   "name": "python",
   "nbconvert_exporter": "python",
   "pygments_lexer": "ipython3",
   "version": "3.8.0"
  },
  "orig_nbformat": 4
 },
 "nbformat": 4,
 "nbformat_minor": 2
}

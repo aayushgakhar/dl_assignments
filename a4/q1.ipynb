{
 "cells": [
  {
   "cell_type": "code",
   "execution_count": 1,
   "metadata": {},
   "outputs": [],
   "source": [
    "import json\n",
    "import os\n",
    "import torch\n",
    "import torchvision.transforms as transforms\n",
    "from torch.utils.data import Dataset, DataLoader\n",
    "from PIL import Image\n",
    "from torchvision.models import resnet50\n",
    "from torchvision import models\n",
    "\n",
    "import torch.nn as nn\n",
    "import torch.optim as optim\n"
   ]
  },
  {
   "cell_type": "code",
   "execution_count": 2,
   "metadata": {},
   "outputs": [],
   "source": [
    "torch.cuda.empty_cache()"
   ]
  },
  {
   "cell_type": "code",
   "execution_count": 3,
   "metadata": {},
   "outputs": [],
   "source": [
    "class HatefulMemeDataset(Dataset):\n",
    "    def __init__(self, json_file, img_dir, transform=None):\n",
    "        self.img_dir = img_dir\n",
    "        self.transform = transform\n",
    "\n",
    "        with open(json_file, \"r\") as f:\n",
    "            self.data = [json.loads(line) for line in f]\n",
    "\n",
    "    def __len__(self):\n",
    "        return len(self.data)\n",
    "\n",
    "    def __getitem__(self, index):\n",
    "        img_path = os.path.join(self.img_dir, self.data[index][\"img\"])\n",
    "        image = Image.open(img_path).convert(\"RGB\")\n",
    "\n",
    "        if self.transform is not None:\n",
    "            image = self.transform(image)\n",
    "\n",
    "        label = self.data[index][\"label\"]\n",
    "\n",
    "        return image, label\n",
    "\n",
    "\n",
    "# Define the image transformations for data augmentation\n",
    "transform_train = transforms.Compose([\n",
    "    transforms.RandomResizedCrop(size=256, scale=(0.8, 1.0)),\n",
    "    transforms.RandomRotation(degrees=15),\n",
    "    transforms.ColorJitter(),\n",
    "    transforms.RandomHorizontalFlip(),\n",
    "    transforms.ToTensor(),\n",
    "    transforms.Normalize(mean=[0.485, 0.456, 0.406], std=[0.229, 0.224, 0.225])\n",
    "])\n",
    "\n",
    "transform_test = transforms.Compose([\n",
    "    transforms.Resize(size=256),\n",
    "    transforms.CenterCrop(size=224),\n",
    "    transforms.ToTensor(),\n",
    "    transforms.Normalize(mean=[0.485, 0.456, 0.406], std=[0.229, 0.224, 0.225])\n",
    "])\n",
    "\n",
    "# Load the datasets\n",
    "train_dataset = HatefulMemeDataset(\n",
    "    json_file=\"data/train.jsonl\", img_dir=\"data/\", transform=transform_train)\n",
    "val_dataset = HatefulMemeDataset(\n",
    "    json_file=\"data/dev_seen.jsonl\", img_dir=\"data/\", transform=transform_test)\n",
    "test_dataset = HatefulMemeDataset(\n",
    "    json_file=\"data/test_seen.jsonl\", img_dir=\"data/\", transform=transform_test)\n",
    "\n",
    "# Define the dataloaders\n",
    "train_loader = DataLoader(train_dataset, batch_size=64,\n",
    "                          shuffle=True, num_workers=4)\n",
    "val_loader = DataLoader(val_dataset, batch_size=64,\n",
    "                        shuffle=False, num_workers=4)\n",
    "test_loader = DataLoader(test_dataset, batch_size=64,\n",
    "                         shuffle=False, num_workers=4)\n"
   ]
  },
  {
   "cell_type": "code",
   "execution_count": 27,
   "metadata": {},
   "outputs": [
    {
     "name": "stdout",
     "output_type": "stream",
     "text": [
      "Epoch 1/10 -- Train Loss: 0.6528, Val Loss: 0.7945, Train Acc: 0.6459, Val Acc: 0.5180\n",
      "Epoch 2/10 -- Train Loss: 0.5991, Val Loss: 0.9011, Train Acc: 0.6728, Val Acc: 0.5060\n",
      "Epoch 3/10 -- Train Loss: 0.5656, Val Loss: 0.8666, Train Acc: 0.6945, Val Acc: 0.5060\n",
      "Epoch 4/10 -- Train Loss: 0.5230, Val Loss: 0.9598, Train Acc: 0.7269, Val Acc: 0.4980\n",
      "Epoch 5/10 -- Train Loss: 0.4765, Val Loss: 0.9887, Train Acc: 0.7556, Val Acc: 0.5200\n",
      "Epoch 6/10 -- Train Loss: 0.4204, Val Loss: 1.1398, Train Acc: 0.7901, Val Acc: 0.4940\n",
      "Epoch 7/10 -- Train Loss: 0.3803, Val Loss: 1.2135, Train Acc: 0.8165, Val Acc: 0.4960\n",
      "Epoch 8/10 -- Train Loss: 0.3404, Val Loss: 1.1844, Train Acc: 0.8392, Val Acc: 0.4800\n",
      "Epoch 9/10 -- Train Loss: 0.3045, Val Loss: 1.2824, Train Acc: 0.8599, Val Acc: 0.5140\n",
      "Epoch 10/10 -- Train Loss: 0.2680, Val Loss: 1.2363, Train Acc: 0.8753, Val Acc: 0.5080\n"
     ]
    }
   ],
   "source": [
    "\n",
    "\n",
    "\n",
    "# Define the ResNet-50 model\n",
    "model = models.resnet18(pretrained=True)\n",
    "num_features = model.fc.in_features\n",
    "model.fc = nn.Linear(num_features, 1)\n",
    "\n",
    "# Define the loss function and optimizer\n",
    "criterion = nn.BCEWithLogitsLoss()\n",
    "optimizer = optim.Adam(model.parameters(), lr=0.0001)\n",
    "\n",
    "# Move the model and loss function to the GPU if available\n",
    "device = torch.device(\"cuda\" if torch.cuda.is_available() else \"cpu\")\n",
    "model.to(device)\n",
    "criterion.to(device)\n",
    "\n",
    "# Train the model\n",
    "num_epochs = 10\n",
    "best_val_loss = float('inf')\n",
    "\n",
    "tr_loss_arr = []\n",
    "tr_acc_arr = []\n",
    "\n",
    "val_loss_arr = []\n",
    "val_acc_arr = []\n",
    "for epoch in range(num_epochs):\n",
    "    # Train loop\n",
    "    model.train()\n",
    "    train_loss = 0\n",
    "    train_correct = 0\n",
    "    for images, labels in train_loader:\n",
    "        images, labels = images.to(device), labels.to(device)\n",
    "\n",
    "        optimizer.zero_grad()\n",
    "\n",
    "        outputs = model(images).squeeze()\n",
    "\n",
    "        loss = criterion(outputs, labels.float())\n",
    "        loss.backward()\n",
    "\n",
    "        optimizer.step()\n",
    "\n",
    "        train_loss += loss.item() * images.size(0)\n",
    "        train_correct += ((outputs >= 0.5).int() == labels).sum().item()\n",
    "\n",
    "    train_loss = train_loss / len(train_loader.dataset)\n",
    "    train_acc = train_correct / len(train_loader.dataset)\n",
    "    tr_loss_arr.append(train_loss)\n",
    "    tr_acc_arr.append(train_acc)\n",
    "\n",
    "    # Validation loop\n",
    "    model.eval()\n",
    "    val_loss = 0\n",
    "    val_correct = 0\n",
    "    with torch.no_grad():\n",
    "        for images, labels in val_loader:\n",
    "            images, labels = images.to(device), labels.to(device)\n",
    "\n",
    "            outputs = model(images).squeeze()\n",
    "\n",
    "            loss = criterion(outputs, labels.float())\n",
    "\n",
    "            val_loss += loss.item() * images.size(0)\n",
    "            val_correct += ((outputs >= 0.5).int() == labels).sum().item()\n",
    "\n",
    "        val_loss = val_loss / len(val_loader.dataset)\n",
    "        val_acc = val_correct / len(val_loader.dataset)\n",
    "\n",
    "        # Print the epoch results\n",
    "        print(f\"Epoch {epoch+1}/{num_epochs} -- Train Loss: {train_loss:.4f}, Val Loss: {val_loss:.4f}, Train Acc: {train_acc:.4f}, Val Acc: {val_acc:.4f}\")\n",
    "        val_loss_arr.append(val_loss)\n",
    "        val_acc_arr.append(val_acc)\n",
    "\n",
    "        # Check if this is the best model so far based on validation loss\n",
    "        if val_loss < best_val_loss:\n",
    "            best_val_loss = val_loss\n",
    "            torch.save(model.state_dict(), \"data/resnet18_hateful_memes.pth\")\n"
   ]
  },
  {
   "cell_type": "code",
   "execution_count": 5,
   "metadata": {},
   "outputs": [],
   "source": [
    "import torch\n",
    "torch.save(model.state_dict(), 'data/modelq1.pt')"
   ]
  },
  {
   "cell_type": "code",
   "execution_count": 6,
   "metadata": {},
   "outputs": [
    {
     "data": {
      "image/png": "[encoded data removed]",
      "text/plain": [
       "<Figure size 640x480 with 1 Axes>"
      ]
     },
     "metadata": {},
     "output_type": "display_data"
    },
    {
     "data": {
      "image/png": "[encoded data removed]",
      "text/plain": [
       "<Figure size 640x480 with 1 Axes>"
      ]
     },
     "metadata": {},
     "output_type": "display_data"
    }
   ],
   "source": [
    "import matplotlib.pyplot as plt\n",
    "\n",
    "plt.plot(tr_loss_arr, label='train')\n",
    "plt.plot(val_loss_arr, label='val')\n",
    "plt.title('Loss vs Epochs')\n",
    "plt.legend()\n",
    "plt.show()\n",
    "\n",
    "plt.plot(tr_acc_arr, label='train')\n",
    "plt.plot(val_acc_arr, label='val')\n",
    "plt.title('Acc vs Epochs')\n",
    "plt.legend()\n",
    "plt.show()\n"
   ]
  },
  {
   "cell_type": "code",
   "execution_count": 31,
   "metadata": {},
   "outputs": [
    {
     "name": "stdout",
     "output_type": "stream",
     "text": [
      "Accuracy: 0.5260\n",
      "Precision: 0.5252\n",
      "Recall: 0.5232\n",
      "F1:0.5151\n"
     ]
    }
   ],
   "source": [
    "from sklearn.metrics import accuracy_score, precision_score, recall_score, f1_score\n",
    "import numpy as np\n",
    "true_labels = []\n",
    "pred_labels = []\n",
    "\n",
    "for images, labels in test_loader:\n",
    "    images, labels = images.to(device), labels.to(device)\n",
    "\n",
    "\n",
    "    # Make predictions\n",
    "    with torch.no_grad():\n",
    "        outputs = model(images).squeeze()\n",
    "        # print(outputs)\n",
    "        # print(labels)\n",
    "        predictions = np.where(outputs.cpu() > 0, 1, 0)\n",
    "\n",
    "    # Add true labels and predicted labels to the lists\n",
    "    true_labels.extend(labels.tolist())\n",
    "    pred_labels.extend(predictions.tolist())\n",
    "\n",
    "accuracy = accuracy_score(true_labels, pred_labels)\n",
    "precision = precision_score(true_labels, pred_labels, average='macro')\n",
    "recall = recall_score(true_labels, pred_labels, average='macro')\n",
    "f1 = f1_score(true_labels, pred_labels, average='macro')\n",
    "\n",
    "print('Accuracy: {:.4f}'.format(accuracy))\n",
    "print('Precision: {:.4f}'.format(precision))\n",
    "print('Recall: {:.4f}'.format(recall))\n",
    "print('F1:{:.4f}'.format(f1))\n"
   ]
  },
  {
   "cell_type": "code",
   "execution_count": 32,
   "metadata": {},
   "outputs": [
    {
     "name": "stdout",
     "output_type": "stream",
     "text": [
      "Class-wise Metrics:\n",
      "              precision    recall  f1-score   support\n",
      "\n",
      " not_hateful       0.53      0.66      0.59       510\n",
      "     hateful       0.52      0.38      0.44       490\n",
      "\n",
      "    accuracy                           0.53      1000\n",
      "   macro avg       0.53      0.52      0.52      1000\n",
      "weighted avg       0.53      0.53      0.52      1000\n",
      "\n"
     ]
    }
   ],
   "source": [
    "from sklearn.metrics import classification_report\n",
    "\n",
    "target_names = ['not_hateful', 'hateful']\n",
    "report = classification_report(\n",
    "    true_labels, pred_labels, target_names=target_names)\n",
    "\n",
    "print('Class-wise Metrics:')\n",
    "print(report)\n"
   ]
  }
 ],
 "metadata": {
  "kernelspec": {
   "display_name": ".venv",
   "language": "python",
   "name": "python3"
  },
  "language_info": {
   "codemirror_mode": {
    "name": "ipython",
    "version": 3
   },
   "file_extension": ".py",
   "mimetype": "text/x-python",
   "name": "python",
   "nbconvert_exporter": "python",
   "pygments_lexer": "ipython3",
   "version": "3.8.0"
  },
  "orig_nbformat": 4
 },
 "nbformat": 4,
 "nbformat_minor": 2
}
